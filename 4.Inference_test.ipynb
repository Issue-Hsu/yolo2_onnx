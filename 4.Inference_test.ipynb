{
 "cells": [
  {
   "cell_type": "code",
   "execution_count": 1,
   "metadata": {},
   "outputs": [],
   "source": [
    "from Inference import Inference"
   ]
  },
  {
   "cell_type": "code",
   "execution_count": 2,
   "metadata": {},
   "outputs": [],
   "source": [
    "a  =  Inference(modelName=\"yolo2\")"
   ]
  },
  {
   "cell_type": "code",
   "execution_count": 3,
   "metadata": {},
   "outputs": [
    {
     "name": "stdout",
     "output_type": "stream",
     "text": [
      "weights file has already exist!\n"
     ]
    },
    {
     "name": "stderr",
     "output_type": "stream",
     "text": [
      "cfg.py:175: UserWarning: src is not broadcastable to dst, but they have the same number of elements.  Falling back to deprecated pointwise behavior.\n",
      "  conv_model.weight.data.copy_(torch.from_numpy(buf[start:start+num_w])); start = start + num_w\n",
      "cfg.py:157: UserWarning: src is not broadcastable to dst, but they have the same number of elements.  Falling back to deprecated pointwise behavior.\n",
      "  conv_model.weight.data.copy_(torch.from_numpy(buf[start:start+num_w])); start = start + num_w\n"
     ]
    },
    {
     "name": "stdout",
     "output_type": "stream",
     "text": [
      "Loading weights from local [./yolo.weights]... Done!\n",
      "onnx file export [./onnx/yolo2.onnx]...start\n",
      "onnx file export [./onnx/yolo2.onnx]... Done!\n",
      "load onnx file [./onnx/yolo2.onnx]...start\n",
      "load onnx file [./onnx/yolo2.onnx]...done!\n",
      "(1, 3, 416, 416)\n",
      "prepare_backend with [tensorflow] using [CUDA:0]...start\n"
     ]
    },
    {
     "name": "stderr",
     "output_type": "stream",
     "text": [
      "/usr/local/lib/python2.7/dist-packages/h5py/__init__.py:36: FutureWarning: Conversion of the second argument of issubdtype from `float` to `np.floating` is deprecated. In future, it will be treated as `np.float64 == np.dtype(float).type`.\n",
      "  from ._conv import register_converters as _register_converters\n",
      "/usr/local/lib/python2.7/dist-packages/onnx_tf/backend.py:677: UserWarning: Unsupported kernel_shape attribute by Tensorflow in Conv operator. The attribute will be ignored.\n",
      "  UserWarning)\n"
     ]
    },
    {
     "name": "stdout",
     "output_type": "stream",
     "text": [
      "prepare_backend [tensorflow] [CUDA:0]...done!\n",
      "inference ...start\n",
      "(1, 425, 13, 13)\n",
      "inference ... done!\n",
      "(1, 425, 13, 13)\n",
      "detect ...\n",
      "save plot results to predictions.jpg\n",
      "detect ... done!\n",
      "truck: 0.934710 \n",
      "bicycle: 0.998012 \n",
      "dog: 0.990524 \n",
      "\n"
     ]
    },
    {
     "name": "stderr",
     "output_type": "stream",
     "text": [
      "utils.py:140: UserWarning: Implicit dimension choice for softmax has been deprecated. Change the call to include dim=X as an argument.\n",
      "  cls_confs = torch.nn.Softmax()(Variable(output[5:5+num_classes].transpose(0,1))).data\n"
     ]
    }
   ],
   "source": [
    "print (a.predict())"
   ]
  },
  {
   "cell_type": "code",
   "execution_count": 4,
   "metadata": {},
   "outputs": [
    {
     "name": "stdout",
     "output_type": "stream",
     "text": [
      "load onnx file [./onnx/vgg19.onnx]...start\n",
      "load onnx file [./onnx/vgg19.onnx]...done!\n",
      "(1, 3, 224, 224)\n",
      "prepare_backend with [tensorflow] using [CUDA:0]...start\n",
      "prepare_backend [tensorflow] [CUDA:0]...done!\n",
      "inference ...start\n",
      "(1, 1000)\n",
      "inference ... done!\n",
      "(1, 1000)\n",
      "6.94% : Weimaraner \n",
      "5.83% : whippet \n",
      "5.69% : English setter \n",
      "5.60% : West Highland white terrier \n",
      "5.49% : tricycle, trike, velocipede \n",
      "\n"
     ]
    }
   ],
   "source": [
    "b  =  Inference(modelName=\"vgg19\")\n",
    "print (b.predict())"
   ]
  },
  {
   "cell_type": "code",
   "execution_count": null,
   "metadata": {},
   "outputs": [],
   "source": []
  }
 ],
 "metadata": {
  "kernelspec": {
   "display_name": "Python 2",
   "language": "python",
   "name": "python2"
  },
  "language_info": {
   "codemirror_mode": {
    "name": "ipython",
    "version": 2
   },
   "file_extension": ".py",
   "mimetype": "text/x-python",
   "name": "python",
   "nbconvert_exporter": "python",
   "pygments_lexer": "ipython2",
   "version": "2.7.12"
  }
 },
 "nbformat": 4,
 "nbformat_minor": 2
}
